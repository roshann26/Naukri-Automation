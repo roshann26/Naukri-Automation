{
 "cells": [
  {
   "cell_type": "code",
   "execution_count": null,
   "metadata": {},
   "outputs": [],
   "source": []
  },
  {
   "cell_type": "code",
   "execution_count": 34,
   "metadata": {},
   "outputs": [],
   "source": [
    "from selenium import webdriver\n",
    "from bs4 import BeautifulSoup\n",
    "import pandas as pd\n",
    "import time\n",
    "\n",
    "chromepath=r\"chromedriver.exe\"\n",
    "driver= webdriver.Chrome(chromepath)\n",
    "\n",
    "driver.get('https://www.naukri.com/')\n",
    "time.sleep(3)"
   ]
  },
  {
   "cell_type": "code",
   "execution_count": 35,
   "metadata": {},
   "outputs": [],
   "source": [
    "driver.find_element_by_xpath('//*[@id=\"login_Layer\"]/div').click()\n",
    "time.sleep(3)"
   ]
  },
  {
   "cell_type": "code",
   "execution_count": 36,
   "metadata": {},
   "outputs": [],
   "source": [
    "driver.find_element_by_xpath('//*[@id=\"root\"]/div[2]/div[2]/div/form/div[2]/input').send_keys('hemanthkhr9@gmail.com')"
   ]
  },
  {
   "cell_type": "code",
   "execution_count": 37,
   "metadata": {},
   "outputs": [],
   "source": [
    "driver.find_element_by_xpath('//*[@id=\"root\"]/div[2]/div[2]/div/form/div[3]/input').send_keys('Hemanth98765')"
   ]
  },
  {
   "cell_type": "code",
   "execution_count": 38,
   "metadata": {},
   "outputs": [],
   "source": [
    "driver.find_element_by_xpath('//*[@id=\"root\"]/div[2]/div[2]/div/form/div[6]/button').click()\n",
    "time.sleep(3)"
   ]
  },
  {
   "cell_type": "code",
   "execution_count": 40,
   "metadata": {},
   "outputs": [],
   "source": [
    "# search for jobs\n",
    "driver.find_element_by_xpath('//*[@id=\"qsb-keyskill-sugg\"]').send_keys('Data Science')\n",
    "time.sleep(3)"
   ]
  },
  {
   "cell_type": "code",
   "execution_count": 41,
   "metadata": {},
   "outputs": [],
   "source": [
    "#click submit button\n",
    "driver.find_element_by_xpath('//*[@id=\"search-jobs\"]/button').click()\n",
    "time.sleep(3)"
   ]
  },
  {
   "cell_type": "code",
   "execution_count": 45,
   "metadata": {},
   "outputs": [],
   "source": [
    "WebDriverWait(driver, 5).until(EC.element_to_be_clickable((By.XPATH, '//*[@id=\"root\"]/div[3]/div[2]/section[2]/div[2]/article[2]/div[1]/div[1]/a'))).click()\n"
   ]
  },
  {
   "cell_type": "code",
   "execution_count": 47,
   "metadata": {},
   "outputs": [],
   "source": [
    "driver.switch_to.window(driver.window_handles[1])\n",
    "url = driver.current_url\n",
    "driver.get(url)\n",
    "time.sleep(5)\n",
    "test = driver.find_element_by_xpath('//*[@id=\"root\"]/main/div[2]/div[2]/section[2]')"
   ]
  },
  {
   "cell_type": "code",
   "execution_count": 49,
   "metadata": {},
   "outputs": [
    {
     "data": {
      "text/plain": [
       "'Job Highlights\\nBachelor s degree\\nEssential Requirements\\n3 years of experience in software / coding/IT software\\nSupport design and code reviews with a major focus on the best user experience,performance,scalability and future expansion\\nYour Job Match Score\\nEarly Applicant\\nKeyskills\\nLocation\\nWork Experience\\nYour profile is missing the skills required for this job. Take these courses to increase your chances of getting hired.\\nData ScienceJavaPower BIPLSQLTableau\\nJob description\\nYou will:\\nWork with business applications across functional areas \\nAssist in coding, testing and debugging new dashboards/reports or making enhancements toexisting software \\nCollaborate in and sprint plan for multiple projects being implemented in parallel\\nSupport design and code reviews with a major focus on the best user experience, performance, scalability and future expansion\\nTake the first step towards your dream career\\nEvery Dell Technologies team member brings something unique to the table. Heres what we are looking for with this role:\\nEssential Requirements\\nKnowledge in Tableau, PL SQL, Tera Data, Power BI\\nExposure to Java, JQuery, Python, Angular, Type Script\\nSome diagnostic and problem-solving skills \\nTo gain trust and respect of engineers, dependent teams and partners to deliver results, all without reporting authority \\nTo work in a dynamic environment with minimal direction while delivering in a timely fashion \\nAbility to quickly adapt new information and develop general knowledge of system being tested \\nGood Communication skill\\nDesirable Requirements\\nBachelor’s degree\\n1-3 years of experience in software/coding/IT software \\nRoleData Scientist\\nIndustry TypeIT Services & Consulting\\nFunctional AreaData Science & Analytics\\nEmployment TypeFull Time, Permanent\\nRole CategoryData Science & Machine Learning\\nEducation\\nUG :Any Graduate\\nPG :Any Postgraduate\\nKey Skills\\nData ScienceJavaPower BITypescriptPLSQLTableauTeradataAngularPython\\nReport this Job'"
      ]
     },
     "execution_count": 49,
     "metadata": {},
     "output_type": "execute_result"
    }
   ],
   "source": [
    "test.text"
   ]
  },
  {
   "cell_type": "code",
   "execution_count": 1,
   "metadata": {},
   "outputs": [],
   "source": [
    "# Importing the necessary libraries\n",
    "import selenium\n",
    "from selenium import webdriver as wb\n",
    "import pandas as pd\n",
    "import time\n",
    "from time import sleep\n",
    "from selenium.webdriver.support.ui import WebDriverWait\n",
    "from selenium.webdriver.common.by import By\n",
    "from selenium.webdriver.support import expected_conditions as EC"
   ]
  },
  {
   "cell_type": "code",
   "execution_count": null,
   "metadata": {},
   "outputs": [
    {
     "name": "stdout",
     "output_type": "stream",
     "text": [
      "C:\\Users\\ROSHAN\\Documents\\Naukri Automation\n"
     ]
    }
   ],
   "source": [
    "# Chaning the working directory to the path where the chromedriver is saved & setting up the chrome driver\n",
    "import time\n",
    "start_time = time.time()\n",
    "#%cd \"C:\\Users\\v-aniuppu\\Documents\\Naukri Automation\"\n",
    "%cd \"C:\\Users\\ROSHAN\\Documents\\Naukri Automation\"\n",
    "driver = wb.Chrome(r\"chromedriver.exe\")\n",
    "Skillset = ['the']\n",
    "Skillset = [x.lower() for x in Skillset]\n",
    "LL = 7\n",
    "UL = 15\n",
    "location = 'Hyderabad'\n",
    "location = location.lower().replace(\" \",\"-\")\n",
    "role = 'Data Analyst'\n",
    "role = role.lower().replace(\" \",\"-\")\n",
    "driver.get(\"https://www.naukri.com/\")\n",
    "driver.find_element_by_xpath('//*[@id=\"login_Layer\"]/div').click()\n",
    "time.sleep(5)\n",
    "driver.find_element_by_xpath('//*[@id=\"root\"]/div[2]/div[2]/div/form/div[2]/input').send_keys('hemanthkhr9@gmail.com')\n",
    "driver.find_element_by_xpath('//*[@id=\"root\"]/div[2]/div[2]/div/form/div[3]/input').send_keys('Hemanth98765')\n",
    "time.sleep(5)\n",
    "driver.find_element_by_xpath('//*[@id=\"root\"]/div[2]/div[2]/div/form/div[6]/button').click()\n",
    "time.sleep(5)\n",
    "app = pd.DataFrame()\n",
    "\n",
    "for i in range(1,6):\n",
    "    try:\n",
    "        driver.get('https://www.naukri.com/'+role+'-jobs-in-'+location+'-'+str(i)+'?experience=4')\n",
    "    except:\n",
    "        driver.get('https://www.naukri.com/'+role+'-jobs-in-'+location+'?experience=4')\n",
    "\n",
    "    for i in range(1,20):\n",
    "        try:\n",
    "            WebDriverWait(driver, 60).until(EC.element_to_be_clickable((By.XPATH, '//*[@id=\"root\"]/div[3]/div[2]/section[2]/div[2]/article['+str(i)+']/div[1]/div[1]/a'))).click()\n",
    "        except:\n",
    "            WebDriverWait(driver, 60).until(EC.element_to_be_clickable((By.XPATH, '//*[@id=\"root\"]/div[3]/div[2]/section[2]/div[2]/article['+str(i)+']/div[1]/div/a'))).click()\n",
    "        driver.switch_to.window(driver.window_handles[1])\n",
    "        url = driver.current_url\n",
    "        driver.get(url)\n",
    "        time.sleep(5)\n",
    "        try:\n",
    "            test = driver.find_element_by_xpath('//*[@id=\"root\"]/main/div[2]/div[2]/section[2]')\n",
    "            if all(word in test.text.lower() for word in Skillset):\n",
    "                Title = driver.find_element_by_xpath('//*[@id=\"root\"]/main/div[2]/div[2]/section[1]/div[1]/div[1]/header/h1')\n",
    "                Title = Title.text\n",
    "                Title = pd.Series(Title)\n",
    "                Company = driver.find_element_by_xpath('//*[@id=\"root\"]/main/div[2]/div[2]/section[1]/div[1]/div[1]/div/a[1]')\n",
    "                Company = Company.text\n",
    "                Company = pd.Series(Company)\n",
    "                loc = driver.find_element_by_xpath('//*[@id=\"root\"]/main/div[2]/div[2]/section[1]/div[1]/div[2]/div[3]/span/a')\n",
    "                loc = loc.text\n",
    "                loc = pd.Series(loc)\n",
    "                df = pd.DataFrame({'Title':Title,'Company':Company,'Location':loc})\n",
    "                app = app.append(df)\n",
    "                if driver.find_element_by_xpath('//*[@id=\"root\"]/main/div[2]/div[2]/section[1]/div[1]/div[3]/div/button[2]').text == 'APPLY':\n",
    "                    driver.find_element_by_xpath('//*[@id=\"root\"]/main/div[2]/div[2]/section[1]/div[1]/div[3]/div/button[2]').click()\n",
    "                    time.sleep(2)\n",
    "                    try:\n",
    "                        aa = driver.find_element_by_xpath('//*[@id=\"qusFrm\"]').get_attribute('childElementCount')\n",
    "                        no_of_divs = int(aa)-1\n",
    "                        if no_of_divs > 2:\n",
    "                            driver.close()\n",
    "                            driver.switch_to.window(driver.window_handles[0])\n",
    "                        #else:\n",
    "                    except:\n",
    "                        try:\n",
    "                            aa = driver.find_element_by_xpath('//*[@id=\"qusFrm\"]').get_attribute('childElementCount')\n",
    "                            no_of_divs = int(aa)-1\n",
    "                            if no_of_divs == 1:\n",
    "                                driver.find_element_by_xpath('//*[@id=\"qusFrm\"]/div[1]/ul/li/input').click()\n",
    "                                time.sleep(3)\n",
    "                                driver.find_element_by_xpath('//*[@id=\"qusSubmit\"]').click()\n",
    "                                time.sleep(3)\n",
    "                                driver.find_element_by_xpath('/html/body/div[2]/div[2]/div[2]/form/div[11]/a').click()\n",
    "                                time.sleep(3)\n",
    "                                driver.close()\n",
    "                                driver.switch_to.window(driver.window_handles[0])\n",
    "                        except:\n",
    "                            aa = driver.find_element_by_xpath('//*[@id=\"qusFrm\"]').get_attribute('childElementCount')\n",
    "                            no_of_divs = int(aa)\n",
    "                            if no_of_divs == 1:\n",
    "                                driver.find_element_by_xpath('//*[@id=\"qusFrm\"]/div[1]/ul/li/input').click()\n",
    "                                time.sleep(3)\n",
    "                                driver.find_element_by_xpath('//*[@id=\"qusSubmit\"]').click()\n",
    "                                time.sleep(3)\n",
    "                                driver.find_element_by_xpath('/html/body/div[2]/div[2]/div[2]/form/div[11]/a').click()\n",
    "                                time.sleep(3)\n",
    "                                driver.close()\n",
    "                                driver.switch_to.window(driver.window_handles[0])\n",
    "\n",
    "                else:\n",
    "                    driver.close()\n",
    "                    driver.switch_to.window(driver.window_handles[0])\n",
    "            else:\n",
    "                driver.close()\n",
    "                driver.switch_to.window(driver.window_handles[0])\n",
    "        except:\n",
    "            driver.close()\n",
    "            driver.switch_to.window(driver.window_handles[0])\n",
    "app"
   ]
  },
  {
   "cell_type": "code",
   "execution_count": null,
   "metadata": {},
   "outputs": [],
   "source": [
    "print(str(len(app))+\" applications done in %s seconds\" % (time.time() - start_time))"
   ]
  },
  {
   "cell_type": "code",
   "execution_count": null,
   "metadata": {},
   "outputs": [],
   "source": [
    "app"
   ]
  },
  {
   "cell_type": "code",
   "execution_count": 21,
   "metadata": {},
   "outputs": [],
   "source": [
    "#driver.find_element_by_xpath('//*[@id=\"qusFrm\"]/div[1]/ul/li/input').click()"
   ]
  },
  {
   "cell_type": "code",
   "execution_count": 49,
   "metadata": {},
   "outputs": [
    {
     "name": "stdout",
     "output_type": "stream",
     "text": [
      "C:\\Users\\v-aniuppu\\Documents\\Naukri Automation\n"
     ]
    }
   ],
   "source": [
    "import time\n",
    "start_time = time.time()\n",
    "%cd \"C:\\Users\\v-aniuppu\\Documents\\Naukri Automation\"\n",
    "driver = wb.Chrome(r\"chromedriver.exe\")\n",
    "Skillset = ['Analysis','Python','SQL']\n",
    "Skillset = [x.lower() for x in Skillset]\n",
    "LL = 7\n",
    "UL = 15\n",
    "location = 'Hyderabad'\n",
    "location = location.lower().replace(\" \",\"-\")\n",
    "role = 'Data Analyst'\n",
    "role = role.lower().replace(\" \",\"-\")\n",
    "driver.get(\"https://www.naukri.com/\")\n",
    "driver.find_element_by_xpath('//*[@id=\"login_Layer\"]/div').click()\n",
    "time.sleep(5)\n",
    "driver.find_element_by_xpath('//*[@id=\"root\"]/div[2]/div[2]/div/form/div[2]/input').send_keys('hemanthkhr9@gmail.com')\n",
    "driver.find_element_by_xpath('//*[@id=\"root\"]/div[2]/div[2]/div/form/div[3]/input').send_keys('Hemanth98765')\n",
    "time.sleep(5)\n",
    "driver.find_element_by_xpath('//*[@id=\"root\"]/div[2]/div[2]/div/form/div[6]/button').click()\n",
    "time.sleep(5)\n",
    "app = pd.DataFrame()"
   ]
  },
  {
   "cell_type": "code",
   "execution_count": 50,
   "metadata": {},
   "outputs": [],
   "source": [
    "driver.get('https://www.naukri.com/'+role+'-jobs-in-'+location+'?ctcFilter='+str(LL)+'to'+str(UL))"
   ]
  },
  {
   "cell_type": "code",
   "execution_count": 54,
   "metadata": {},
   "outputs": [],
   "source": [
    "WebDriverWait(driver, 20).until(EC.element_to_be_clickable((By.XPATH, '//*[@id=\"root\"]/div[3]/div[2]/section[2]/div[2]/article[4]/div[1]/div[1]/a'))).click()"
   ]
  },
  {
   "cell_type": "code",
   "execution_count": 55,
   "metadata": {},
   "outputs": [],
   "source": [
    "driver.switch_to.window(driver.window_handles[1])\n",
    "url = driver.current_url\n",
    "driver.get(url)\n",
    "time.sleep(10)"
   ]
  },
  {
   "cell_type": "code",
   "execution_count": 56,
   "metadata": {
    "scrolled": true
   },
   "outputs": [],
   "source": [
    "if driver.find_element_by_xpath('//*[@id=\"root\"]/main/div[2]/div[2]/section[1]/div[1]/div[3]/div/button[2]').text == 'APPLY':\n",
    "    driver.find_element_by_xpath('//*[@id=\"root\"]/main/div[2]/div[2]/section[1]/div[1]/div[3]/div/button[2]').click()\n",
    "    time.sleep(2)\n",
    "    try:\n",
    "        aa = driver.find_element_by_xpath('//*[@id=\"qusFrm\"]').get_attribute('childElementCount')\n",
    "        no_of_divs = int(aa)-1\n",
    "        if no_of_divs > 2:\n",
    "            driver.close()\n",
    "            driver.switch_to.window(driver.window_handles[0])\n",
    "        #else:\n",
    "    except:\n",
    "        aa = driver.find_element_by_xpath('//*[@id=\"qusFrm\"]').get_attribute('childElementCount')\n",
    "        no_of_divs = int(aa)-1\n",
    "        if no_of_divs == 1:\n",
    "            driver.find_element_by_xpath('//*[@id=\"qusFrm\"]/div[1]/ul/li/input').click()\n",
    "            time.sleep(3)\n",
    "            driver.find_element_by_xpath('//*[@id=\"qusSubmit\"]').click()\n",
    "            time.sleep(3)\n",
    "            driver.close()\n",
    "            driver.switch_to.window(driver.window_handles[0])\n",
    "            \n",
    "else:\n",
    "    driver.close()\n",
    "    driver.switch_to.window(driver.window_handles[0])"
   ]
  },
  {
   "cell_type": "code",
   "execution_count": null,
   "metadata": {},
   "outputs": [],
   "source": []
  },
  {
   "cell_type": "code",
   "execution_count": null,
   "metadata": {},
   "outputs": [],
   "source": [
    "try:\n",
    "        driver.get('https://www.naukri.com/'+role+'-jobs-in-'+location+'-'+str(i)+'?ctcFilter='+str(LL)+'to'+str(UL))\n",
    "    except:\n",
    "        driver.get('https://www.naukri.com/'+role+'-jobs-in-'+location+'?ctcFilter='+str(LL)+'to'+str(UL))"
   ]
  },
  {
   "cell_type": "code",
   "execution_count": null,
   "metadata": {},
   "outputs": [],
   "source": []
  },
  {
   "cell_type": "code",
   "execution_count": 11,
   "metadata": {},
   "outputs": [],
   "source": [
    "driver.find_element_by_xpath('//*[@id=\"qusFrm\"]').click()"
   ]
  },
  {
   "cell_type": "code",
   "execution_count": 12,
   "metadata": {},
   "outputs": [
    {
     "data": {
      "text/plain": [
       "1"
      ]
     },
     "execution_count": 12,
     "metadata": {},
     "output_type": "execute_result"
    }
   ],
   "source": [
    "no_of_divs"
   ]
  },
  {
   "cell_type": "code",
   "execution_count": 13,
   "metadata": {},
   "outputs": [],
   "source": [
    "if no_of_divs > 2:\n",
    "    driver.close()\n",
    "    driver.switch_to.window(driver.window_handles[0])"
   ]
  },
  {
   "cell_type": "code",
   "execution_count": 9,
   "metadata": {},
   "outputs": [],
   "source": [
    "aa = driver.find_element_by_xpath('//*[@id=\"qusFrm\"]').get_attribute('childElementCount')\n",
    "no_of_divs = int(aa)-1\n",
    "if no_of_divs == 1:\n",
    "    driver.find_element_by_xpath('//*[@id=\"qusFrm\"]/div[1]/ul/li/input').click()\n",
    "    time.sleep(3)\n",
    "    driver.find_element_by_xpath('//*[@id=\"qusSubmit\"]').click()\n",
    "    time.sleep(3)\n",
    "    driver.close()\n",
    "    driver.switch_to.window(driver.window_handles[0])"
   ]
  },
  {
   "cell_type": "code",
   "execution_count": null,
   "metadata": {},
   "outputs": [],
   "source": []
  },
  {
   "cell_type": "code",
   "execution_count": null,
   "metadata": {},
   "outputs": [],
   "source": []
  },
  {
   "cell_type": "code",
   "execution_count": null,
   "metadata": {},
   "outputs": [],
   "source": []
  },
  {
   "cell_type": "code",
   "execution_count": null,
   "metadata": {},
   "outputs": [],
   "source": []
  },
  {
   "cell_type": "code",
   "execution_count": null,
   "metadata": {},
   "outputs": [],
   "source": []
  },
  {
   "cell_type": "code",
   "execution_count": null,
   "metadata": {},
   "outputs": [],
   "source": []
  },
  {
   "cell_type": "code",
   "execution_count": null,
   "metadata": {},
   "outputs": [],
   "source": []
  },
  {
   "cell_type": "code",
   "execution_count": null,
   "metadata": {},
   "outputs": [],
   "source": []
  }
 ],
 "metadata": {
  "kernelspec": {
   "display_name": "Python 3",
   "language": "python",
   "name": "python3"
  },
  "language_info": {
   "codemirror_mode": {
    "name": "ipython",
    "version": 3
   },
   "file_extension": ".py",
   "mimetype": "text/x-python",
   "name": "python",
   "nbconvert_exporter": "python",
   "pygments_lexer": "ipython3",
   "version": "3.8.5"
  }
 },
 "nbformat": 4,
 "nbformat_minor": 5
}
